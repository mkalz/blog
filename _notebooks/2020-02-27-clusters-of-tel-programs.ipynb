{
 "cells": [
  {
   "cell_type": "markdown",
   "metadata": {},
   "source": [
    "In a current research project we are analysing data from a large sample of master programs in the field of technology-enhanced learning. For this data we have conducted a cluster analysis to see how similar of different these programs are and in which dimensions those programs are different. In this post I will show the analysis conducted.\n",
    "toc: true"
   ]
  },
  {
   "cell_type": "code",
   "execution_count": 1,
   "metadata": {},
   "outputs": [
    {
     "name": "stderr",
     "output_type": "stream",
     "text": [
      "also installing the dependencies ‘pixmap’, ‘sp’\n",
      "\n",
      "Updating HTML index of packages in '.Library'\n",
      "Making 'packages.html' ... done\n",
      "Updating HTML index of packages in '.Library'\n",
      "Making 'packages.html' ... done\n",
      "Updating HTML index of packages in '.Library'\n",
      "Making 'packages.html' ... done\n",
      "Updating HTML index of packages in '.Library'\n",
      "Making 'packages.html' ... done\n",
      "also installing the dependency ‘tidyselect’\n",
      "\n",
      "Updating HTML index of packages in '.Library'\n",
      "Making 'packages.html' ... done\n",
      "Updating HTML index of packages in '.Library'\n",
      "Making 'packages.html' ... done\n",
      "Warning message:\n",
      "“dependency ‘pbkrtest’ is not available”also installing the dependencies ‘clipr’, ‘rematch’, ‘prettyunits’, ‘forcats’, ‘hms’, ‘readr’, ‘cellranger’, ‘progress’, ‘zip’, ‘SparseM’, ‘MatrixModels’, ‘haven’, ‘curl’, ‘readxl’, ‘openxlsx’, ‘boot’, ‘minqa’, ‘nloptr’, ‘RcppEigen’, ‘carData’, ‘quantreg’, ‘maptools’, ‘rio’, ‘lme4’, ‘car’, ‘ellipse’, ‘flashClust’, ‘leaps’, ‘scatterplot3d’, ‘ggsci’, ‘cowplot’, ‘ggsignif’, ‘polynom’, ‘abind’, ‘FactoMineR’, ‘ggpubr’, ‘ggrepel’, ‘tidyr’\n",
      "\n",
      "Warning message in download.file(url, destfile, method, mode = \"wb\", ...):\n",
      "“URL 'https://cran.r-project.org/src/contrib/tidyr_1.0.2.tar.gz': status was 'Timeout was reached'”Warning message in download.packages(pkgs, destdir = tmpd, available = available, :\n",
      "“download of package ‘tidyr’ failed”Warning message in install.packages(\"factoextra\"):\n",
      "“installation of package ‘zip’ had non-zero exit status”Warning message in install.packages(\"factoextra\"):\n",
      "“installation of package ‘nloptr’ had non-zero exit status”Warning message in install.packages(\"factoextra\"):\n",
      "“installation of package ‘openxlsx’ had non-zero exit status”Warning message in install.packages(\"factoextra\"):\n",
      "“installation of package ‘lme4’ had non-zero exit status”Warning message in install.packages(\"factoextra\"):\n",
      "“installation of package ‘ggpubr’ had non-zero exit status”Warning message in install.packages(\"factoextra\"):\n",
      "“installation of package ‘rio’ had non-zero exit status”Warning message in install.packages(\"factoextra\"):\n",
      "“installation of package ‘car’ had non-zero exit status”Warning message in install.packages(\"factoextra\"):\n",
      "“installation of package ‘FactoMineR’ had non-zero exit status”Warning message in install.packages(\"factoextra\"):\n",
      "“installation of package ‘factoextra’ had non-zero exit status”Updating HTML index of packages in '.Library'\n",
      "Making 'packages.html' ... done\n"
     ]
    }
   ],
   "source": [
    "#collapse-hide\n",
    "## We follow the tutorials under http://uc-r.github.io/hc_clustering and under https://www.datacamp.com/community/tutorials/hierarchical-clustering-R and under https://lukedaniels1.github.io/Bio381_2018/Daniels_Cluster_Analysis_Lecture.html \n",
    "## PREPARATION\n",
    "## We first install all required packages\n",
    "install.packages(\"ade4\")\n",
    "install.packages(\"cluster\")\n",
    "install.packages(\"purrr\")\n",
    "install.packages(\"NbClust\")\n",
    "install.packages(\"dplyr\")\n",
    "install.packages(\"dendextend\")\n",
    "install.packages(\"factoextra\")"
   ]
  },
  {
   "cell_type": "code",
   "execution_count": 2,
   "metadata": {},
   "outputs": [],
   "source": [
    "## PREPROCESSING\n",
    "## First we read in the file with study programs and topics and name it lltech\n",
    "lltech <- read.csv(\"~/Projects/LLearnTech19/clusters/llearntech-clustering-new.csv\", header=FALSE, sep=\";\")\n",
    "## Then we transform the file into a data matrix\n",
    "mat <- as.matrix(lltech)\n",
    "## Since we have now the names of the variables in the firs row we cut out the data matrix without the first row\n",
    "mat2 <- mat[-c(1),]\n",
    "## Since we have now a data matrix with type \"character\" we need to transform\n",
    "## this matrix into type \"numeric\"\n",
    "mat3 <- as.data.frame(apply(mat2, 2, as.numeric)) \n",
    "## We have now finalised the preprocessing and can start the cluster analysis with mat3"
   ]
  },
  {
   "cell_type": "code",
   "execution_count": null,
   "metadata": {},
   "outputs": [],
   "source": []
  }
 ],
 "metadata": {
  "celltoolbar": "Edit Metadata",
  "kernelspec": {
   "display_name": "R",
   "language": "R",
   "name": "ir"
  },
  "language_info": {
   "codemirror_mode": "r",
   "file_extension": ".r",
   "mimetype": "text/x-r-source",
   "name": "R",
   "pygments_lexer": "r",
   "version": "3.5.1"
  }
 },
 "nbformat": 4,
 "nbformat_minor": 2
}
